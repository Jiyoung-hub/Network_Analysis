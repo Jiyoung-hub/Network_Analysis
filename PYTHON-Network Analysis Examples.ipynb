{
 "cells": [
  {
   "cell_type": "code",
   "execution_count": 1,
   "metadata": {},
   "outputs": [],
   "source": [
    "import numpy as np\n",
    "import pandas as pd"
   ]
  },
  {
   "cell_type": "markdown",
   "metadata": {},
   "source": [
    "### Problem1"
   ]
  },
  {
   "cell_type": "code",
   "execution_count": null,
   "metadata": {},
   "outputs": [],
   "source": [
    "\"\"\"\n",
    "Build the affiliation network of cutomers to restaurants without repetition.\n",
    "Each line of the output has the following format:\n",
    "    Restaurant: customer1 customer2 ... customerN\n",
    "\"\"\""
   ]
  },
  {
   "cell_type": "code",
   "execution_count": 2,
   "metadata": {},
   "outputs": [],
   "source": [
    "FILENAME = 'restaurants.txt'\n",
    "\n",
    "def restaurant_db(filename = FILENAME):\n",
    "    restaurant_db = {}\n",
    "    source = open(filename,'r')\n",
    "    for line in source.readlines():\n",
    "        data_str = line.split(';')\n",
    "        restaurant  = data_str[1].strip().title()\n",
    "        names = data_str[0].split(',')\n",
    "        for name in names:\n",
    "            if restaurant not in restaurant_db:\n",
    "                restaurant_db[restaurant] = []\n",
    "                restaurant_db[restaurant].append(name)              \n",
    "            elif name not in restaurant_db[restaurant]:\n",
    "                restaurant_db[restaurant].append(name)    \n",
    " \n",
    "    source.close()\n",
    "    \n",
    "    return restaurant_db"
   ]
  },
  {
   "cell_type": "code",
   "execution_count": 3,
   "metadata": {},
   "outputs": [],
   "source": [
    "problem1 = open('problem1.out','w+')"
   ]
  },
  {
   "cell_type": "code",
   "execution_count": 4,
   "metadata": {},
   "outputs": [],
   "source": [
    "for restaurant in restaurant_db():\n",
    "    problem1.write(restaurant+': ')\n",
    "    translation = {39: None}\n",
    "    \n",
    "    problem1.write(str(restaurant_db()[restaurant]).strip('[]').replace(\",\",\"\").strip('').translate(translation))\n",
    "    problem1.write(\"\\n\")\n",
    "\n",
    "problem1.close()"
   ]
  },
  {
   "cell_type": "markdown",
   "metadata": {},
   "source": [
    "### Problem 2"
   ]
  },
  {
   "cell_type": "code",
   "execution_count": null,
   "metadata": {},
   "outputs": [],
   "source": [
    "\"\"\"\n",
    "Build all the dyadic relationships between two people using the dyad 1 definition.\n",
    "The dyads are undirected, so \\name1 name2\" and \\name2 name1\" are the same pairs\n",
    "\"\"\""
   ]
  },
  {
   "cell_type": "code",
   "execution_count": 5,
   "metadata": {},
   "outputs": [],
   "source": [
    "from itertools import combinations\n",
    "FILENAME = 'restaurants.txt'\n",
    "def names_db(filename = FILENAME):\n",
    "    names_db = []\n",
    "    source = open(filename,'r')\n",
    "    for line in source.readlines():\n",
    "        data_str = line.split(';')\n",
    "        restaurant  = data_str[1].strip().title()\n",
    "        names = data_str[0].split(',')\n",
    "        comb = combinations(names,2)\n",
    "        for i in list(comb):\n",
    "            names_db.append(i)\n",
    "    return names_db"
   ]
  },
  {
   "cell_type": "code",
   "execution_count": 6,
   "metadata": {},
   "outputs": [],
   "source": [
    "undirected = sorted(list(set([tuple(sorted(name)) for name in names_db()])))"
   ]
  },
  {
   "cell_type": "code",
   "execution_count": 7,
   "metadata": {},
   "outputs": [
    {
     "data": {
      "text/plain": [
       "3557"
      ]
     },
     "execution_count": 7,
     "metadata": {},
     "output_type": "execute_result"
    }
   ],
   "source": [
    "len(undirected)"
   ]
  },
  {
   "cell_type": "code",
   "execution_count": 8,
   "metadata": {},
   "outputs": [],
   "source": [
    "problem2 = open('problem2.out','w+')"
   ]
  },
  {
   "cell_type": "code",
   "execution_count": 9,
   "metadata": {},
   "outputs": [],
   "source": [
    "for name in undirected:\n",
    "    translation = {39: None}\n",
    "    problem2.write(str(sorted(name)).strip('[]').replace(\",\",\"\").strip('').translate(translation))\n",
    "    problem2.write('\\n')\n",
    "    \n",
    "problem2.close()"
   ]
  },
  {
   "cell_type": "markdown",
   "metadata": {},
   "source": [
    "### Problem 3"
   ]
  },
  {
   "cell_type": "code",
   "execution_count": null,
   "metadata": {},
   "outputs": [],
   "source": [
    "\"\"\"\n",
    "Build all the dyadic relationships between two people using the dyad 3 definition.\n",
    "\"\"\""
   ]
  },
  {
   "cell_type": "code",
   "execution_count": 10,
   "metadata": {},
   "outputs": [],
   "source": [
    "dyad3 = []\n",
    "for p in undirected:\n",
    "    count = 0\n",
    "    for name in names_db():\n",
    "         if (p[0] in name) and (p[1] in name):\n",
    "            count +=1\n",
    "    if count >= 3:\n",
    "        dyad3.append(p)"
   ]
  },
  {
   "cell_type": "code",
   "execution_count": 11,
   "metadata": {},
   "outputs": [
    {
     "data": {
      "text/plain": [
       "654"
      ]
     },
     "execution_count": 11,
     "metadata": {},
     "output_type": "execute_result"
    }
   ],
   "source": [
    "len(dyad3)"
   ]
  },
  {
   "cell_type": "code",
   "execution_count": 27,
   "metadata": {},
   "outputs": [
    {
     "data": {
      "text/plain": [
       "6263"
      ]
     },
     "execution_count": 27,
     "metadata": {},
     "output_type": "execute_result"
    }
   ],
   "source": [
    "len(names_db())"
   ]
  },
  {
   "cell_type": "code",
   "execution_count": 12,
   "metadata": {},
   "outputs": [],
   "source": [
    "problem3 = open('problem3.out','w+')"
   ]
  },
  {
   "cell_type": "code",
   "execution_count": 13,
   "metadata": {},
   "outputs": [],
   "source": [
    "for name1,name2 in sorted(dyad3):\n",
    "    problem3.write(name1+ ' ' +name2)\n",
    "    problem3.write('\\n')\n",
    "\n",
    "problem3.close()"
   ]
  },
  {
   "cell_type": "markdown",
   "metadata": {},
   "source": [
    "### Problem 4"
   ]
  },
  {
   "cell_type": "code",
   "execution_count": null,
   "metadata": {},
   "outputs": [],
   "source": [
    "\"\"\"\n",
    "Compute the degree of each node using the dyad 1  of friendship. \n",
    "Each line of output is formatted as: name degree\n",
    "\"\"\""
   ]
  },
  {
   "cell_type": "code",
   "execution_count": 14,
   "metadata": {},
   "outputs": [],
   "source": [
    "list_all = []\n",
    "for p in undirected:\n",
    "    list_all.append(p[0])\n",
    "    list_all.append(p[1])\n",
    "\n",
    "count = 0\n",
    "for a in set(list_all):\n",
    "    count += list_all.count(a)"
   ]
  },
  {
   "cell_type": "code",
   "execution_count": 15,
   "metadata": {},
   "outputs": [],
   "source": [
    "problem4 = open('problem4.out','w+')"
   ]
  },
  {
   "cell_type": "code",
   "execution_count": 16,
   "metadata": {},
   "outputs": [],
   "source": [
    "for a in sorted(set(list_all)):\n",
    "    problem4.write(a+ ' ' + str(list_all.count(a)))\n",
    "    problem4.write('\\n')\n",
    "\n",
    "problem4.close()"
   ]
  },
  {
   "cell_type": "code",
   "execution_count": 17,
   "metadata": {},
   "outputs": [],
   "source": [
    "#2nd\n",
    "from collections import Counter\n",
    "degree = Counter(list_all)\n",
    "#degree"
   ]
  },
  {
   "cell_type": "markdown",
   "metadata": {},
   "source": [
    "### Problem 5"
   ]
  },
  {
   "cell_type": "code",
   "execution_count": null,
   "metadata": {},
   "outputs": [],
   "source": [
    "\"\"\"\n",
    "1. Enqueue the root node, set the distance of root to zero, and mark root as visited.\n",
    "2. Dequeue a node (let's call this node n).\n",
    " - enqueue all friends of n that have not yet been visited\n",
    " - set the friends distance to the distance of n plus one\n",
    " - mark the friends of n as visited\n",
    "3. If the queue is empty, then the algorithm exits. Otherwise repeat from Step 2.\n",
    "\"\"\""
   ]
  },
  {
   "cell_type": "code",
   "execution_count": 20,
   "metadata": {},
   "outputs": [],
   "source": [
    "dyad = {}\n",
    "\n",
    "for name in sorted(set(list_all)):\n",
    "    dyad[name]=[]\n",
    "    for p in sorted(undirected):   \n",
    "        if name == p[0]:\n",
    "            dyad[name].append(p[1])\n",
    "        elif name == p[1]:            \n",
    "            dyad[name].append(p[0])"
   ]
  },
  {
   "cell_type": "code",
   "execution_count": 21,
   "metadata": {},
   "outputs": [],
   "source": [
    "problem5 = open('problem5.out','w+')"
   ]
  },
  {
   "cell_type": "code",
   "execution_count": 22,
   "metadata": {},
   "outputs": [],
   "source": [
    "for name in dyad.keys():\n",
    "    problem5.write(name+': ')\n",
    "    for p in dyad[name]: problem5.write(p + \" \")\n",
    "    problem5.write('\\n')\n",
    "    \n",
    "problem5.close()"
   ]
  },
  {
   "cell_type": "markdown",
   "metadata": {},
   "source": [
    "### Problem 6"
   ]
  },
  {
   "cell_type": "code",
   "execution_count": null,
   "metadata": {},
   "outputs": [],
   "source": [
    "\"\"\"\n",
    "Compute the distance of all foodies who are reachable from a given root.\n",
    "(Use a dictionary to keep track of the people that have been visited by BFS and their\n",
    "distance from the root, i.e., dist= {\"Alice\": 0, \"Hussam\" : 1})\n",
    "\"\"\""
   ]
  },
  {
   "cell_type": "code",
   "execution_count": 23,
   "metadata": {},
   "outputs": [],
   "source": [
    "from collections import deque\n",
    "    \n",
    "def bfs():\n",
    "    distances_dict = {}\n",
    "    for root in dyad.keys():\n",
    "        distances = {}\n",
    "        distances[root] = 0\n",
    "        q = deque([root])\n",
    "        while q:\n",
    "            current = q.popleft()\n",
    "            for friend in dyad[current]:\n",
    "                if friend not in distances:\n",
    "                    distances[friend] = distances[current] + 1\n",
    "                    q.append(friend)\n",
    "        avg = sum(distances.values()) / len(distances.values())\n",
    "        distances_dict[root]=[]\n",
    "        distances_dict[root].append(avg)\n",
    "    return distances_dict"
   ]
  },
  {
   "cell_type": "code",
   "execution_count": 24,
   "metadata": {},
   "outputs": [],
   "source": [
    "problem6 = open('problem6.out','w+')"
   ]
  },
  {
   "cell_type": "code",
   "execution_count": 25,
   "metadata": {},
   "outputs": [],
   "source": [
    "for name in bfs():\n",
    "    problem6.write(name+ ' '+ str(bfs()[name]).strip(\"[]\"))\n",
    "    problem6.write('\\n')\n",
    "\n",
    "problem6.close()"
   ]
  }
 ],
 "metadata": {
  "kernelspec": {
   "display_name": "Python 3",
   "language": "python",
   "name": "python3"
  },
  "language_info": {
   "codemirror_mode": {
    "name": "ipython",
    "version": 3
   },
   "file_extension": ".py",
   "mimetype": "text/x-python",
   "name": "python",
   "nbconvert_exporter": "python",
   "pygments_lexer": "ipython3",
   "version": "3.7.3"
  }
 },
 "nbformat": 4,
 "nbformat_minor": 2
}
